{
 "cells": [
  {
   "cell_type": "code",
   "execution_count": 2,
   "id": "41db2d6b",
   "metadata": {},
   "outputs": [],
   "source": [
    "from dataclasses import dataclass, asdict\n",
    "from tango.common import Params\n",
    "from tango.common import Registrable\n",
    "import itertools"
   ]
  },
  {
   "cell_type": "code",
   "execution_count": 3,
   "id": "6b1f94e1",
   "metadata": {},
   "outputs": [],
   "source": [
    "config_path = \"/Users/sabhyac/Desktop/sabhya/tango/tango/sweep-config.yaml\""
   ]
  },
  {
   "cell_type": "code",
   "execution_count": 71,
   "id": "4642e40d",
   "metadata": {},
   "outputs": [],
   "source": [
    "class Sweeper(Registrable):\n",
    "    def __init__(self, config_path):\n",
    "        super(Registrable, self).__init__()\n",
    "        self.config_path = config_path\n",
    "        self.sweep_config = load_config(config_path)\n",
    "    \n",
    "    def get_combinations(self):\n",
    "        hyperparams = self.sweep_config.config[\"hyperparameters\"]\n",
    "        hyperparams_lsts = []\n",
    "        for key, val in hyperparams.items():\n",
    "            hyperparams_lsts.append(val)            \n",
    "        hyperparam_combos = list(itertools.product(*hyperparams_lsts))\n",
    "        print(hyperparam_combos)\n",
    "\n",
    "@Sweeper.register(\"wandb\")\n",
    "class WandbSweeper(Sweeper):\n",
    "    pass\n",
    "\n",
    "def load_config(config_path: str):\n",
    "    return SweepConfig.from_file(config_path)\n",
    "\n",
    "@dataclass(frozen=True)\n",
    "class SweepConfig(Params):\n",
    "    config: dict"
   ]
  },
  {
   "cell_type": "code",
   "execution_count": 72,
   "id": "034c3f37",
   "metadata": {},
   "outputs": [],
   "source": [
    "sw = Sweeper(config_path=config_path)"
   ]
  },
  {
   "cell_type": "code",
   "execution_count": 73,
   "id": "1cc17d35",
   "metadata": {},
   "outputs": [
    {
     "data": {
      "text/plain": [
       "SweepConfig(config={'sweeper': 'default', 'n_proc': 1, 'hyperparameters': {'batc_size': [16, 32, 64], 'lr': [0.001, 0.0001]}})"
      ]
     },
     "execution_count": 73,
     "metadata": {},
     "output_type": "execute_result"
    }
   ],
   "source": [
    "sw.sweep_config"
   ]
  },
  {
   "cell_type": "code",
   "execution_count": 74,
   "id": "cb348871",
   "metadata": {},
   "outputs": [
    {
     "name": "stdout",
     "output_type": "stream",
     "text": [
      "[(16, 0.001), (16, 0.0001), (32, 0.001), (32, 0.0001), (64, 0.001), (64, 0.0001)]\n"
     ]
    }
   ],
   "source": [
    "sw.get_combinations()"
   ]
  },
  {
   "cell_type": "code",
   "execution_count": null,
   "id": "6f0d1249",
   "metadata": {},
   "outputs": [],
   "source": []
  },
  {
   "cell_type": "code",
   "execution_count": null,
   "id": "b70bae90",
   "metadata": {},
   "outputs": [],
   "source": []
  }
 ],
 "metadata": {
  "kernelspec": {
   "display_name": "Python 3 (ipykernel)",
   "language": "python",
   "name": "python3"
  },
  "language_info": {
   "codemirror_mode": {
    "name": "ipython",
    "version": 3
   },
   "file_extension": ".py",
   "mimetype": "text/x-python",
   "name": "python",
   "nbconvert_exporter": "python",
   "pygments_lexer": "ipython3",
   "version": "3.8.9"
  }
 },
 "nbformat": 4,
 "nbformat_minor": 5
}
